{
 "cells": [
  {
   "cell_type": "code",
   "execution_count": 5,
   "id": "b611b4d6",
   "metadata": {},
   "outputs": [],
   "source": [
    "test = 'mynameisganesh'"
   ]
  },
  {
   "cell_type": "code",
   "execution_count": 6,
   "id": "ea5f717a",
   "metadata": {},
   "outputs": [
    {
     "data": {
      "text/plain": [
       "'mynameisganesh'"
      ]
     },
     "execution_count": 6,
     "metadata": {},
     "output_type": "execute_result"
    }
   ],
   "source": [
    "test[:]"
   ]
  },
  {
   "cell_type": "code",
   "execution_count": 7,
   "id": "6f76ac56",
   "metadata": {},
   "outputs": [
    {
     "data": {
      "text/plain": [
       "'ameisganesh'"
      ]
     },
     "execution_count": 7,
     "metadata": {},
     "output_type": "execute_result"
    }
   ],
   "source": [
    "test[3:]"
   ]
  },
  {
   "cell_type": "code",
   "execution_count": 8,
   "id": "4beedc2a",
   "metadata": {},
   "outputs": [
    {
     "name": "stdout",
     "output_type": "stream",
     "text": [
      "0 m\n",
      "1 y\n",
      "2 n\n",
      "3 a\n",
      "4 m\n",
      "5 e\n",
      "6 i\n",
      "7 s\n",
      "8 g\n",
      "9 a\n",
      "10 n\n",
      "11 e\n",
      "12 s\n",
      "13 h\n"
     ]
    }
   ],
   "source": [
    "for i, j in enumerate(test):\n",
    "    print(i, j)"
   ]
  },
  {
   "cell_type": "code",
   "execution_count": 10,
   "id": "f70d12e2",
   "metadata": {},
   "outputs": [
    {
     "data": {
      "text/plain": [
       "'myn'"
      ]
     },
     "execution_count": 10,
     "metadata": {},
     "output_type": "execute_result"
    }
   ],
   "source": [
    "test[:3]       "
   ]
  },
  {
   "cell_type": "code",
   "execution_count": 11,
   "id": "833863c8",
   "metadata": {},
   "outputs": [
    {
     "data": {
      "text/plain": [
       "'ameisg'"
      ]
     },
     "execution_count": 11,
     "metadata": {},
     "output_type": "execute_result"
    }
   ],
   "source": [
    "test[3:9]   ### first 3 inclusive last 9 exculsive"
   ]
  },
  {
   "cell_type": "code",
   "execution_count": 14,
   "id": "931cc4da",
   "metadata": {},
   "outputs": [
    {
     "data": {
      "text/plain": [
       "'mnmigns'"
      ]
     },
     "execution_count": 14,
     "metadata": {},
     "output_type": "execute_result"
    }
   ],
   "source": [
    "test[::2]"
   ]
  },
  {
   "cell_type": "code",
   "execution_count": 18,
   "id": "87c81ef8",
   "metadata": {},
   "outputs": [
    {
     "data": {
      "text/plain": [
       "'eisganes'"
      ]
     },
     "execution_count": 18,
     "metadata": {},
     "output_type": "execute_result"
    }
   ],
   "source": [
    "test[5:-1]"
   ]
  },
  {
   "cell_type": "code",
   "execution_count": 24,
   "id": "a78ef9af",
   "metadata": {},
   "outputs": [
    {
     "data": {
      "text/plain": [
       "'eisganesh'"
      ]
     },
     "execution_count": 24,
     "metadata": {},
     "output_type": "execute_result"
    }
   ],
   "source": [
    "test[5:]"
   ]
  },
  {
   "cell_type": "code",
   "execution_count": 28,
   "id": "6ba2c4cd",
   "metadata": {},
   "outputs": [
    {
     "data": {
      "text/plain": [
       "'hsenagsiemanym'"
      ]
     },
     "execution_count": 28,
     "metadata": {},
     "output_type": "execute_result"
    }
   ],
   "source": [
    "test[::-1]"
   ]
  },
  {
   "cell_type": "code",
   "execution_count": 30,
   "id": "aebd87b2",
   "metadata": {},
   "outputs": [
    {
     "data": {
      "text/plain": [
       "'ane'"
      ]
     },
     "execution_count": 30,
     "metadata": {},
     "output_type": "execute_result"
    }
   ],
   "source": [
    "test[-5:-2]"
   ]
  },
  {
   "cell_type": "code",
   "execution_count": 31,
   "id": "d9737f06",
   "metadata": {},
   "outputs": [
    {
     "data": {
      "text/plain": [
       "14"
      ]
     },
     "execution_count": 31,
     "metadata": {},
     "output_type": "execute_result"
    }
   ],
   "source": [
    "len(test)"
   ]
  },
  {
   "cell_type": "code",
   "execution_count": 32,
   "id": "9c6dfcf2",
   "metadata": {},
   "outputs": [
    {
     "data": {
      "text/plain": [
       "'mynameisganesh'"
      ]
     },
     "execution_count": 32,
     "metadata": {},
     "output_type": "execute_result"
    }
   ],
   "source": [
    "test[0:len(test)]"
   ]
  },
  {
   "cell_type": "code",
   "execution_count": 33,
   "id": "e9d6409c",
   "metadata": {},
   "outputs": [
    {
     "data": {
      "text/plain": [
       "'mynameisganesh'"
      ]
     },
     "execution_count": 33,
     "metadata": {},
     "output_type": "execute_result"
    }
   ],
   "source": [
    "test[0:14]"
   ]
  },
  {
   "cell_type": "code",
   "execution_count": 36,
   "id": "3bba6600",
   "metadata": {},
   "outputs": [
    {
     "data": {
      "text/plain": [
       "'hsenagsiemany'"
      ]
     },
     "execution_count": 36,
     "metadata": {},
     "output_type": "execute_result"
    }
   ],
   "source": [
    "test[-1:-len(test):-1]"
   ]
  },
  {
   "cell_type": "code",
   "execution_count": 43,
   "id": "99a8b7ab",
   "metadata": {},
   "outputs": [
    {
     "data": {
      "text/plain": [
       "'hsenagsiemany'"
      ]
     },
     "execution_count": 43,
     "metadata": {},
     "output_type": "execute_result"
    }
   ],
   "source": [
    "test[-1:-14:-1]"
   ]
  },
  {
   "cell_type": "code",
   "execution_count": 44,
   "id": "3684e12a",
   "metadata": {},
   "outputs": [
    {
     "name": "stdout",
     "output_type": "stream",
     "text": [
      "-14 m\n",
      "-13 y\n",
      "-12 n\n",
      "-11 a\n",
      "-10 m\n",
      "-9 e\n",
      "-8 i\n",
      "-7 s\n",
      "-6 g\n",
      "-5 a\n",
      "-4 n\n",
      "-3 e\n",
      "-2 s\n",
      "-1 h\n"
     ]
    }
   ],
   "source": [
    "for i, j in enumerate(test):\n",
    "    print(-14+i, j)"
   ]
  },
  {
   "cell_type": "code",
   "execution_count": 45,
   "id": "624183a0",
   "metadata": {},
   "outputs": [
    {
     "name": "stdout",
     "output_type": "stream",
     "text": [
      "0 m\n",
      "1 y\n",
      "2 n\n",
      "3 a\n",
      "4 m\n",
      "5 e\n",
      "6 i\n",
      "7 s\n",
      "8 g\n",
      "9 a\n",
      "10 n\n",
      "11 e\n",
      "12 s\n",
      "13 h\n"
     ]
    }
   ],
   "source": [
    "for i, j in enumerate(test):\n",
    "    print(i, j)"
   ]
  },
  {
   "cell_type": "code",
   "execution_count": 48,
   "id": "3349f752",
   "metadata": {},
   "outputs": [
    {
     "data": {
      "text/plain": [
       "''"
      ]
     },
     "execution_count": 48,
     "metadata": {},
     "output_type": "execute_result"
    }
   ],
   "source": [
    "test[-1:-14:1]"
   ]
  },
  {
   "cell_type": "code",
   "execution_count": 53,
   "id": "9bd0cfe9",
   "metadata": {},
   "outputs": [
    {
     "data": {
      "text/plain": [
       "''"
      ]
     },
     "execution_count": 53,
     "metadata": {},
     "output_type": "execute_result"
    }
   ],
   "source": [
    "test[-1:-(len(test)+1):-1]"
   ]
  },
  {
   "cell_type": "code",
   "execution_count": 52,
   "id": "97dfdeeb",
   "metadata": {},
   "outputs": [
    {
     "data": {
      "text/plain": [
       "'hsenagsiemanym'"
      ]
     },
     "execution_count": 52,
     "metadata": {},
     "output_type": "execute_result"
    }
   ],
   "source": [
    "test[-1:-15:-1]"
   ]
  },
  {
   "cell_type": "code",
   "execution_count": 54,
   "id": "cab40467",
   "metadata": {},
   "outputs": [
    {
     "data": {
      "text/plain": [
       "14"
      ]
     },
     "execution_count": 54,
     "metadata": {},
     "output_type": "execute_result"
    }
   ],
   "source": [
    "len(test)"
   ]
  },
  {
   "cell_type": "code",
   "execution_count": 61,
   "id": "e90a2008",
   "metadata": {},
   "outputs": [
    {
     "data": {
      "text/plain": [
       "'anes'"
      ]
     },
     "execution_count": 61,
     "metadata": {},
     "output_type": "execute_result"
    }
   ],
   "source": [
    "test[-5:-1]"
   ]
  },
  {
   "cell_type": "code",
   "execution_count": null,
   "id": "720620e5",
   "metadata": {},
   "outputs": [],
   "source": []
  }
 ],
 "metadata": {
  "kernelspec": {
   "display_name": "Python 3 (ipykernel)",
   "language": "python",
   "name": "python3"
  },
  "language_info": {
   "codemirror_mode": {
    "name": "ipython",
    "version": 3
   },
   "file_extension": ".py",
   "mimetype": "text/x-python",
   "name": "python",
   "nbconvert_exporter": "python",
   "pygments_lexer": "ipython3",
   "version": "3.9.12"
  }
 },
 "nbformat": 4,
 "nbformat_minor": 5
}
